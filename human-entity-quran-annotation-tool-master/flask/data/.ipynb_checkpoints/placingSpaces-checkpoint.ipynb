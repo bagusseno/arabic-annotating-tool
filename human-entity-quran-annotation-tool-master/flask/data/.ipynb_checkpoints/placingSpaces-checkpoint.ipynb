{
 "cells": [
  {
   "cell_type": "code",
   "execution_count": 3,
   "metadata": {},
   "outputs": [
    {
     "ename": "SyntaxError",
     "evalue": "invalid character in identifier (<ipython-input-3-98413fb3741c>, line 1)",
     "output_type": "error",
     "traceback": [
      "\u001b[0;36m  File \u001b[0;32m\"<ipython-input-3-98413fb3741c>\"\u001b[0;36m, line \u001b[0;32m1\u001b[0m\n\u001b[0;31m    import pandas as pd\u001b[0m\n\u001b[0m                      ^\u001b[0m\n\u001b[0;31mSyntaxError\u001b[0m\u001b[0;31m:\u001b[0m invalid character in identifier\n"
     ]
    }
   ],
   "source": [
    "import pandas as pd\n",
    "\n",
    "dataForEntity = pd.read_excel('Morphological Quranic Arabic.xlsx')\n",
    "dataOfStandardizationResource = pd.read_excel('wordbywordtranslate (fixed العل�—ين �—لك).xlsx')\n",
    "\n",
    "def strip_arabic_vowels(line_with_vowels):\n",
    "    diacritics = [u'\\u064e',  # fatha, short a\n",
    "                  u'\\u064b',  # double fatha\n",
    "                  u'\\u0650',  # kasra, short i\n",
    "                  u'\\u064d',  # double kasra\n",
    "                  u'\\u064f',  # damma, short u\n",
    "                  u'\\u064c',  # double damma\n",
    "                  u'\\u0652',  # sukkun, nothing\n",
    "                  u'\\u0651',  # shedda, double\n",
    "                  u'\\u0670',\n",
    "                  u'\\u0671'\n",
    "                 ]\n",
    "    \n",
    "    line_without_vowels = ''\n",
    "    for char in line_with_vowels:\n",
    "        if char not in diacritics:\n",
    "            line_without_vowels += char\n",
    "    \n",
    "    return line_without_vowels\n",
    "    \n",
    "dosrIndex = 0\n",
    "\n",
    "for i in range(len(dataForEntity)):\n",
    "    query = strip_arabic_vowels(str(dataForEntity.at[i, 'ARAB']))\n",
    "    source = str(dataOfStandardizationResource.at[dosrIndex, 'Data'])\n",
    "    \n",
    "    print(query + ' | ' + source)\n",
    "    \n",
    "    queryLocation = source.find(query)\n",
    "    queryShouldLastIndex = len(source) - len(query)\n",
    "\n",
    "    if queryLocation == queryShouldLastIndex:\n",
    "        dataForEntity.at[i, 'SPACE AFTER'] = 'TRUE'\n",
    "        print(\"Last\")\n",
    "        dosrIndex += 1\n",
    "    else:\n",
    "        print(\"Not last\") \n",
    "        \n",
    "# pd.set_option(\"display.max_rows\", 99999999)\n",
    "# dataForEntity"
   ]
  },
  {
   "cell_type": "code",
   "execution_count": null,
   "metadata": {},
   "outputs": [],
   "source": []
  }
 ],
 "metadata": {
  "kernelspec": {
   "display_name": "Python 3",
   "language": "python",
   "name": "python3"
  },
  "language_info": {
   "codemirror_mode": {
    "name": "ipython",
    "version": 3
   },
   "file_extension": ".py",
   "mimetype": "text/x-python",
   "name": "python",
   "nbconvert_exporter": "python",
   "pygments_lexer": "ipython3",
   "version": "3.7.4"
  }
 },
 "nbformat": 4,
 "nbformat_minor": 2
}
