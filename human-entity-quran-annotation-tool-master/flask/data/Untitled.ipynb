{
 "cells": [
  {
   "cell_type": "code",
   "execution_count": 7,
   "metadata": {},
   "outputs": [],
   "source": [
    "import pandas as pd\n",
    "import pymongo"
   ]
  },
  {
   "cell_type": "code",
   "execution_count": 8,
   "metadata": {},
   "outputs": [],
   "source": [
    "myclient = pymongo.MongoClient(\"mongodb://localhost:27017/\")\n",
    "\n",
    "data = pd.read_excel(\"Dataset With Arab With Space.xlsx\")"
   ]
  },
  {
   "cell_type": "code",
   "execution_count": 10,
   "metadata": {},
   "outputs": [],
   "source": [
    "mydb = myclient[\"TA\"]"
   ]
  },
  {
   "cell_type": "code",
   "execution_count": 13,
   "metadata": {},
   "outputs": [],
   "source": [
    "for i in range(len(data)):\n",
    "    location = data.at[i, \"LOCATION\"]\n",
    "    location = location.split(':')\n",
    "    no_surat = location[0][1:]\n",
    "    ayat = location[1]\n",
    "    word = location[2]\n",
    "    \n",
    "    data.at[i, 'SURAH_NUMBER'] = no_surat\n",
    "    data.at[i, 'AYAT_NUMBER'] = ayat\n",
    "    data.at[i, 'WORD_NUMBER'] = word"
   ]
  },
  {
   "cell_type": "code",
   "execution_count": 22,
   "metadata": {},
   "outputs": [
    {
     "data": {
      "text/plain": [
       "LOCATION         (1:1:4:1)\n",
       "FORM                    {l\n",
       "TAG                    DET\n",
       "FEATURES        PREFIX|Al+\n",
       "ARAB                    ٱل\n",
       "SURAH_NUMBER             1\n",
       "AYAT_NUMBER              1\n",
       "WORD_NUMBER              4\n",
       "Name: 5, dtype: object"
      ]
     },
     "execution_count": 22,
     "metadata": {},
     "output_type": "execute_result"
    }
   ],
   "source": [
    "data.iloc[5]"
   ]
  },
  {
   "cell_type": "code",
   "execution_count": 19,
   "metadata": {},
   "outputs": [],
   "source": [
    "quran = mydb[\"quran\"]"
   ]
  },
  {
   "cell_type": "code",
   "execution_count": 28,
   "metadata": {},
   "outputs": [
    {
     "data": {
      "text/plain": [
       "<pymongo.results.InsertManyResult at 0x128a2d370>"
      ]
     },
     "execution_count": 28,
     "metadata": {},
     "output_type": "execute_result"
    }
   ],
   "source": [
    "quran.insert_many(data.to_dict('records'))"
   ]
  },
  {
   "cell_type": "code",
   "execution_count": 83,
   "metadata": {},
   "outputs": [
    {
     "data": {
      "text/plain": [
       "<pymongo.cursor.Cursor at 0x134684890>"
      ]
     },
     "execution_count": 83,
     "metadata": {},
     "output_type": "execute_result"
    }
   ],
   "source": [
    "x = quran.find({\"SURAH_NUMBER\": \"67\"})\n"
   ]
  },
  {
   "cell_type": "code",
   "execution_count": 62,
   "metadata": {},
   "outputs": [],
   "source": [
    "patterns = [['REL', 'V'], ['PN', 'N', 'PN'], ['REL', 'P', 'N', 'PRON'], ['REL', 'V', 'PRON'], ['N', 'PRON'], ['N'], ['COND', 'V', 'P', 'DET', 'N', 'CONJ', 'V', 'P', 'PN'], ['REL', 'V', 'PN'], ['PN'], ['N', 'DET', 'ADJ'], ['REL', 'V', 'P', 'N'], ['REL', 'V', 'PRON', 'N', 'PRON', 'P', 'N', 'PN'], ['REL', 'V', 'N', 'PRON'], ['ADJ'], ['REL', 'V', 'PRON', 'N', 'PRON', 'N', 'N', 'PN'], ['COND', 'V', 'DET', 'N'], ['N', 'DET', 'N'], ['DET', 'N'], ['REL', 'V', 'PRON', 'P', 'N', 'PN'], ['REL', 'V', 'PRON', 'N', 'PRON', 'P', 'DET', 'N', 'CONJ', 'DET', 'N'], ['REL', 'V', 'PRON', 'DET', 'N'], ['COND', 'V', 'PRON'], ['COND', 'V'], ['N', 'DET', 'N', 'PRON'], ['REL', 'V', 'PRON', 'CONJ', 'V', 'PRON', 'DET', 'N', 'CONJ', 'V', 'PRON', 'DET', 'N', 'CONJ', 'V', 'PRON', 'DET', 'N'], ['REL', 'P', 'PRON', 'DET', 'N'], ['COND', 'P', 'N', 'PRON', 'N'], ['N', 'PN'], ['N', 'CONJ', 'DET', 'N'], ['REL', 'V', 'PRON', 'N', 'PRON', 'ACC', 'PRON', 'V', 'PRON', 'REM', 'V', 'P', 'PRON', 'N', 'PRON', 'CONJ', 'V', 'PRON', 'N', 'DET', 'N', 'DET', 'N', 'CONJ', 'DET', 'N', 'CONJ', 'DET', 'N', 'CONJ', 'DET', 'N', 'CONJ', 'DET', 'N', 'P', 'DET', 'N', 'V', 'PN', 'ACC', 'PRON', 'NEG', 'N', 'EXP', 'PRON', 'CONJ', 'DET', 'N', 'CONJ', 'N', 'DET', 'N', 'N', 'P', 'DET', 'N', 'NEG', 'N', 'EXP', 'PRON', 'DET', 'N', 'DET', 'ADJ', 'ACC', 'DET', 'N', 'LOC', 'PN', 'DET', 'PN', 'REM', 'NEG', 'V', 'REL', 'V', 'PRON', 'DET', 'N', 'RES', 'P', 'N', 'REL', 'V', 'PRON', 'DET', 'N', 'N', 'LOC', 'PRON', 'REM', 'COND', 'V', 'P', 'N', 'PN', 'RSLT', 'ACC', 'PN', 'N', 'DET', 'N', 'REM', 'COND', 'V', 'PRON', 'PRON', 'RSLT', 'V', 'V', 'PRON', 'N', 'PRON', 'P', 'PN', 'CONJ', 'REL', 'V', 'PRON', 'CONJ', 'V', 'P', 'REL', 'V', 'PRON', 'DET', 'N', 'CONJ', 'DET', 'N', 'INTG', 'V', 'PRON', 'REM', 'COND', 'V', 'PRON', 'RSLT', 'CERT', 'V', 'PRON', 'CONJ', 'COND', 'V', 'PRON', 'RSLT', 'ACC', 'PREV', 'P', 'PRON', 'DET', 'N', 'REM', 'PN', 'N', 'P', 'DET', 'N', 'ACC', 'REL', 'V', 'PRON', 'P', 'N', 'PN', 'CONJ', 'V', 'PRON', 'DET', 'N', 'P', 'N', 'N', 'CONJ', 'V', 'PRON', 'REL', 'V', 'PRON', 'P', 'DET', 'N', 'P', 'DET', 'N', 'REM', 'V', 'PRON', 'P', 'N', 'ADJ', 'DEM', 'REL', 'V', 'N', 'PRON', 'P', 'DET', 'N', 'CONJ', 'DET', 'N', 'REM', 'NEG', 'P', 'PRON', 'P', 'N', 'INTG', 'NEG', 'V', 'P', 'REL', 'V', 'PRON', 'N', 'P', 'DET', 'N', 'V', 'PRON', 'P', 'N', 'PN', 'PRP', 'V', 'LOC', 'PRON', 'CONJ', 'V', 'N', 'P', 'PRON', 'CIRC', 'PRON', 'N', 'DEM', 'P', 'ACC', 'PRON', 'V', 'PRON', 'NEG', 'V', 'PRON', 'DET', 'N', 'RES', 'T', 'ADJ', 'REM', 'V', 'PRON', 'P', 'N', 'PRON', 'REL', 'V', 'PRON', 'V', 'PRON', 'REM', 'INTG', 'T', 'V', 'PRON', 'PRON', 'P', 'N', 'NEG', 'N', 'P', 'PRON', 'CONJ', 'V', 'N', 'N', 'REL', 'V', 'CIRC', 'PRON', 'NEG', 'V', 'PRON', 'V', 'PN', 'VOC', 'N', 'DET', 'N', 'V', 'DET', 'N', 'REL', 'V', 'CONJ', 'V', 'DET', 'N', 'P', 'REL', 'V', 'CONJ', 'V', 'REL', 'V', 'CONJ', 'V', 'REL', 'V', 'P', 'N', 'PRON', 'DET', 'N', 'ACC', 'PRON', 'P', 'N', 'N', 'N', 'V', 'DET', 'N', 'P', 'DET', 'N', 'CONJ', 'V', 'DET', 'N', 'P', 'DET', 'N', 'CONJ', 'V', 'DET', 'N', 'P', 'DET', 'N', 'CONJ', 'V', 'DET', 'N', 'P', 'DET', 'N', 'CONJ', 'V', 'REL', 'V', 'P', 'N', 'N', 'PRO', 'V', 'DET', 'N', 'DET', 'N', 'N', 'P', 'N', 'DET', 'N', 'REM', 'COND', 'V', 'DEM', 'RSLT', 'V', 'P', 'PN', 'P', 'N', 'RES', 'SUB', 'V', 'PRON', 'P', 'PRON', 'N', 'REM', 'V', 'PRON', 'PN', 'N', 'PRON', 'REM', 'P', 'PN', 'DET', 'N', 'V', 'COND', 'V', 'PRON', 'REL', 'P', 'N', 'PRON', 'CONJ', 'V', 'PRON', 'PRON', 'V', 'PRON', 'PN', 'REM', 'V', 'REL', 'P', 'DET', 'N', 'CONJ', 'REL', 'P', 'DET', 'N', 'REM', 'PN', 'P', 'N', 'N', 'N', 'T', 'V', 'N', 'N', 'REL', 'V', 'P', 'N', 'N', 'CONJ', 'REL', 'V', 'P', 'N', 'V', 'SUB', 'ACC', 'LOC', 'PRON', 'CONJ', 'LOC', 'PRON', 'N', 'ADJ', 'REM', 'V', 'PRON', 'PN', 'N', 'PRON', 'REM', 'PN', 'N', 'P', 'DET', 'N', 'V', 'COND', 'V', 'PRON', 'V', 'PRON', 'PN', 'RSLT', 'V', 'PRON', 'PRON', 'V', 'PRON', 'PN', 'CONJ', 'V', 'P', 'PRON', 'N', 'PRON', 'REM', 'PN', 'N', 'ADJ', 'V', 'V', 'PRON', 'PN', 'CONJ', 'DET', 'N', 'REM', 'COND', 'V', 'PRON', 'RSLT', 'ACC', 'PN', 'NEG', 'V', 'DET', 'N', 'ACC', 'PN', 'V', 'PN', 'CONJ', 'PN', 'CONJ', 'N', 'PN', 'CONJ', 'N', 'PN', 'P', 'DET', 'N', 'N', 'N', 'PRON', 'P', 'N', 'REM', 'PN', 'N', 'ADJ', 'T', 'V', 'N', 'PN', 'N', 'PRON', 'ACC', 'PRON', 'V', 'PRON', 'P', 'PRON', 'REL', 'P', 'N', 'PRON', 'N', 'REM', 'V', 'P', 'PRON', 'ACC', 'PRON', 'PRON', 'DET', 'N', 'DET', 'ADJ', 'REM', 'T', 'V', 'PRON', 'V', 'N', 'PRON', 'ACC', 'PRON', 'V', 'PRON', 'PRON', 'N', 'REM', 'PN', 'N', 'P', 'REL', 'V', 'REM', 'V', 'DET', 'N', 'P', 'DET', 'N', 'CONJ', 'ACC', 'PRON', 'V', 'PRON', 'PRON', 'PN', 'CONJ', 'ACC', 'PRON', 'V', 'PRON', 'P', 'PRON', 'CONJ', 'N', 'PRON', 'P', 'DET', 'PN', 'DET', 'ADJ', 'REM', 'V', 'PRON', 'N', 'PRON', 'P', 'N', 'ADJ', 'CONJ', 'V', 'PRON', 'N', 'ADJ', 'CONJ', 'V', 'PRON', 'PN', 'T', 'V', 'P', 'PRON', 'PN', 'DET', 'N', 'V', 'LOC', 'PRON', 'N', 'V', 'VOC', 'PN', 'INTG', 'P', 'PRON', 'DEM', 'V', 'PRON', 'P', 'N', 'PN', 'ACC', 'PN', 'V', 'REL', 'V', 'P', 'N', 'N', 'T', 'V', 'PN', 'N', 'PRON', 'V', 'N', 'PRON', 'V', 'P', 'PRON', 'P', 'N', 'PRON', 'N', 'ADJ', 'ACC', 'PRON', 'N', 'DET', 'N', 'REM', 'V', 'PRON', 'DET', 'N', 'CIRC', 'PRON', 'N', 'V', 'P', 'DET', 'N', 'ACC', 'PN', 'V', 'PRON', 'P', 'PN', 'N', 'P', 'N', 'P', 'PN', 'CONJ', 'N', 'CONJ', 'N', 'CONJ', 'N', 'P', 'DET', 'N', 'V', 'N', 'PRON', 'INTG', 'V', 'P', 'PRON', 'N', 'CIRC', 'CERT', 'V', 'PRON', 'DET', 'N', 'CONJ', 'N', 'PRON', 'N', 'V', 'P', 'DEM', 'PN', 'V', 'REL', 'V', 'V', 'N', 'PRON', 'V', 'P', 'PRON', 'N', 'V', 'N', 'PRON', 'SUB', 'NEG', 'V', 'DET', 'N', 'T', 'N', 'EXP', 'N', 'CONJ', 'V', 'N', 'PRON', 'ADJ', 'CONJ', 'V', 'P', 'DET', 'N', 'CONJ', 'DET', 'N', 'CONJ', 'T', 'V', 'DET', 'N', 'VOC', 'PN', 'ACC', 'PN', 'V', 'PRON', 'CONJ', 'V', 'PRON', 'CONJ', 'V', 'PRON', 'P', 'N', 'DET', 'N', 'VOC', 'PN', 'V', 'PRON', 'P', 'N', 'PRON', 'CONJ', 'V', 'PRON', 'CONJ', 'V', 'PRON', 'LOC', 'DET', 'N', 'DEM', 'P', 'N', 'DET', 'N', 'V', 'PRON', 'P', 'PRON', 'REM', 'NEG', 'V', 'PRON', 'LOC', 'PRON', 'T', 'V', 'PRON', 'N', 'PRON', 'INTG', 'PRON', 'V', 'PN', 'CONJ', 'NEG', 'V', 'PRON', 'LOC', 'PRON', 'T', 'V', 'PRON', 'T', 'V', 'DET', 'N', 'VOC', 'PN', 'ACC', 'PN', 'V', 'PRON', 'P', 'N', 'P', 'PRON', 'N', 'PRON', 'DET', 'PN', 'PN', 'N', 'PN', 'N', 'P', 'DET', 'N', 'CONJ', 'DET', 'N', 'CONJ', 'P', 'DET', 'N', 'CONJ', 'V', 'DET', 'N', 'P', 'DET', 'N', 'CONJ', 'N', 'CONJ', 'P', 'DET', 'N', 'V', 'N', 'PRON', 'INTG', 'V', 'P', 'PRON', 'N', 'CIRC', 'NEG', 'V', 'PRON', 'N', 'V', 'P', 'DEM', 'PN', 'V', 'REL', 'V', 'T', 'V', 'N', 'RSLT', 'ACC', 'PREV', 'V', 'P', 'PRON', 'V', 'CONJ', 'V', 'REM', 'V', 'PRON', 'DET', 'N', 'CONJ', 'DET', 'N', 'CONJ', 'DET', 'PN', 'CONJ', 'DET', 'PN', 'CONJ', 'N', 'P', 'N', 'PN', 'ACC', 'PRON', 'CERT', 'V', 'PRON', 'PRON', 'P', 'N', 'P', 'N', 'PRON', 'ACC', 'PRON', 'V', 'P', 'PRON', 'P', 'DET', 'N', 'P', 'N', 'DET', 'N', 'CONJ', 'V', 'P', 'PRON', 'CONJ', 'V', 'N', 'P', 'N', 'PN', 'CONJ', 'V', 'DET', 'N', 'CONJ', 'DET', 'N', 'CONJ', 'V', 'DET', 'N', 'P', 'N', 'PN', 'CONJ', 'V', 'PRON', 'P', 'REL', 'V', 'PRON', 'CONJ', 'REL', 'V', 'PRON', 'P', 'N', 'PRON', 'ACC', 'P', 'DEM', 'EMPH', 'N', 'P', 'PRON', 'COND', 'V', 'PRON', 'N', 'CONJ', 'N', 'P', 'REL', 'LOC', 'N', 'PRON', 'P', 'DET', 'PN', 'CONJ', 'PRP', 'V', 'P', 'PRON', 'N', 'REL', 'V', 'P', 'PRON', 'REM', 'V', 'PRON', 'PRON', 'P', 'N', 'P', 'N', 'PRON', 'REM', 'V', 'PRON', 'PN', 'CONJ', 'V', 'PRON', 'PRON', 'ACC', 'PN', 'N', 'PRON', 'CONJ', 'N', 'PRON', 'REM', 'V', 'PRON', 'PRON', 'DEM', 'N', 'ADJ', 'REM', 'T', 'V', 'PN', 'P', 'PRON', 'DET', 'N', 'V', 'INTG', 'N', 'PRON', 'P', 'PN', 'V', 'DET', 'N', 'PRON', 'N', 'PN', 'V', 'PRON', 'P', 'PN', 'REM', 'V', 'P', 'ACC', 'PRON', 'N', 'N', 'PRON', 'V', 'PRON', 'P', 'REL', 'V', 'PRON', 'CONJ', 'V', 'PRON', 'DET', 'N', 'REM', 'V', 'PRON', 'LOC', 'DET', 'N', 'REM', 'V', 'PRON', 'CONJ', 'V', 'PN', 'REM', 'PN', 'N', 'DET', 'N', 'T', 'V', 'PN', 'VOC', 'PN', 'ACC', 'PRON', 'N', 'PRON', 'CONJ', 'N', 'PRON', 'P', 'PRON', 'CONJ', 'N', 'PRON', 'P', 'REL', 'V', 'PRON', 'CONJ', 'N', 'REL', 'V', 'PRON', 'PRON', 'LOC', 'REL', 'V', 'PRON', 'P', 'N', 'DET', 'N', 'CONJ', 'P', 'PRON', 'N', 'PRON', 'CONJ', 'V', 'LOC', 'PRON', 'P', 'REL', 'V', 'PRON', 'P', 'PRON', 'V', 'PRON', 'REM', 'EXL', 'COND', 'V', 'PRON', 'RSLT', 'V', 'PRON', 'N', 'ADJ', 'P', 'DET', 'N', 'CONJ', 'DET', 'N', 'REM', 'NEG', 'P', 'PRON', 'P', 'N', 'CONJ', 'EXL', 'COND', 'V', 'PRON', 'CONJ', 'V', 'PRON', 'DET', 'N', 'RSLT', 'V', 'PRON', 'N', 'PRON', 'REM', 'PN', 'NEG', 'V', 'DET', 'N', 'DEM', 'V', 'PRON', 'P', 'PRON', 'P', 'DET', 'N', 'CONJ', 'DET', 'N', 'DET', 'ADJ', 'ACC', 'N', 'PN', 'LOC', 'PN', 'P', 'N', 'PN', 'V', 'PRON', 'P', 'N', 'CONJ', 'V', 'P', 'PRON', 'V', 'REM', 'V', 'DET', 'N', 'P', 'N', 'PRON', 'REM', 'PRO', 'V', 'P', 'DET', 'N', 'REM', 'COND', 'V', 'PRON', 'P', 'PRON', 'P', 'N', 'REL', 'V', 'PRON', 'P', 'DET', 'N', 'RSLT', 'V', 'V', 'PRON', 'V', 'N', 'PRON', 'CONJ', 'N', 'PRON', 'CONJ', 'N', 'PRON', 'CONJ', 'N', 'PRON', 'CONJ', 'N', 'PRON', 'CONJ', 'N', 'PRON', 'CONJ', 'V', 'CONJ', 'V', 'N', 'PN', 'P', 'DET', 'N', 'ACC', 'DEM', 'EMPH', 'PRON', 'DET', 'N', 'DET', 'ADJ', 'REM', 'NEG', 'P', 'N', 'RES', 'PN', 'REM', 'ACC', 'PN', 'EMPH', 'PRON', 'DET', 'N', 'DET', 'ADJ', 'REM', 'COND', 'V', 'PRON', 'RSLT', 'ACC', 'PN', 'N', 'P', 'DET', 'N', 'V', 'VOC', 'N', 'DET', 'N', 'V', 'PRON', 'P', 'N', 'ADJ', 'LOC', 'PRON', 'CONJ', 'LOC', 'PRON', 'SUB', 'NEG', 'V', 'RES', 'PN', 'CONJ', 'NEG', 'V', 'P', 'PRON', 'N', 'CONJ', 'NEG', 'V', 'N', 'PRON', 'N', 'N', 'P', 'N', 'PN', 'REM', 'COND', 'V', 'PRON', 'RSLT', 'V', 'PRON', 'V', 'PRON', 'P', 'ACC', 'PRON', 'N', 'VOC', 'N', 'DET', 'N', 'P', 'INTG', 'V', 'PRON', 'P', 'PN', 'CIRC', 'NEG', 'V', 'DET', 'PN', 'CONJ', 'DET', 'PN', 'RES', 'P', 'N', 'PRON', 'INTG', 'SUP', 'NEG', 'V', 'PRON', 'VOC', 'PRON', 'DEM', 'V', 'PRON', 'P', 'REL', 'P', 'PRON', 'P', 'PRON', 'N', 'REM', 'P', 'INTG', 'V', 'PRON', 'P', 'REL', 'V', 'P', 'PRON', 'P', 'PRON', 'N', 'REM', 'PN', 'V', 'CONJ', 'PRON', 'NEG', 'V', 'PRON', 'NEG', 'V', 'PN', 'PN', 'CONJ', 'NEG', 'PN', 'SUP', 'AMD', 'V', 'N', 'ADJ', 'CONJ', 'NEG', 'V', 'P', 'DET', 'N', 'ACC', 'N', 'DET', 'N', 'P', 'PN', 'EMPH', 'REL', 'V', 'PRON', 'PRON', 'CONJ', 'DEM', 'DET', 'N', 'CONJ', 'REL', 'V', 'PRON', 'REM', 'PN', 'N', 'DET', 'N', 'V', 'N', 'P', 'N', 'DET', 'N', 'SUB', 'V', 'PRON', 'PRON', 'REM', 'NEG', 'V', 'PRON', 'RES', 'N', 'PRON', 'CIRC', 'NEG', 'V', 'PRON', 'VOC', 'N', 'DET', 'N', 'P', 'INTG', 'V', 'PRON', 'P', 'N', 'PN', 'CIRC', 'PRON', 'V', 'PRON', 'VOC', 'N', 'DET', 'N', 'P', 'INTG', 'V', 'PRON', 'DET', 'N', 'P', 'DET', 'N', 'CONJ', 'V', 'PRON', 'DET', 'N', 'CIRC', 'PRON', 'V', 'PRON', 'REM', 'V', 'N', 'P', 'N', 'DET', 'N', 'V', 'PRON', 'P', 'REL', 'V', 'P', 'REL', 'V', 'PRON', 'T', 'DET', 'N', 'CONJ', 'V', 'PRON', 'T', 'PRON', 'ACC', 'PRON', 'V', 'PRON', 'CONJ', 'PRO', 'V', 'PRON', 'EXP', 'P', 'REL', 'V', 'N', 'PRON', 'V', 'ACC', 'DET', 'N', 'N', 'PN', 'SUB', 'V', 'N', 'N', 'REL', 'V', 'PRON', 'CONJ', 'V', 'PRON', 'PRON', 'LOC', 'N', 'PRON', 'V', 'ACC', 'DET', 'N', 'P', 'N', 'PN', 'V', 'PRON', 'REL', 'V', 'REM', 'PN', 'N', 'ADJ', 'V', 'P', 'N', 'PRON', 'REL', 'V', 'REM', 'PN', 'N', 'DET', 'N', 'DET', 'ADJ', 'REM', 'P', 'N', 'DET', 'N', 'REL', 'COND', 'V', 'PRON', 'P', 'N', 'V', 'PRON', 'P', 'PRON', 'CONJ', 'P', 'PRON', 'REL', 'COND', 'V', 'PRON', 'P', 'N', 'NEG', 'V', 'PRON', 'P', 'PRON', 'RES', 'SUB', 'V', 'PRON', 'P', 'PRON', 'N', 'DEM', 'P', 'ACC', 'PRON', 'V', 'PRON', 'V', 'P', 'PRON', 'P', 'DET', 'N', 'N', 'REM', 'V', 'PRON', 'P', 'PN', 'DET', 'N', 'CIRC', 'PRON', 'V', 'PRON', 'ANS', 'COND', 'V', 'P', 'N', 'PRON', 'CONJ', 'V', 'RSLT', 'ACC', 'PN', 'V', 'DET', 'N', 'ACC', 'REL', 'V', 'PRON', 'P', 'N', 'PN', 'CONJ', 'N', 'PRON', 'N', 'ADJ', 'DEM', 'NEG', 'N', 'P', 'PRON', 'P', 'DET', 'N', 'CONJ', 'NEG', 'V', 'PRON', 'PN', 'CONJ', 'NEG', 'V', 'P', 'PRON', 'T', 'DET', 'N', 'CONJ', 'NEG', 'V', 'PRON', 'CONJ', 'P', 'PRON', 'N', 'ADJ', 'REM', 'ACC', 'P', 'PRON', 'EMPH', 'N', 'V', 'PRON', 'N', 'PRON', 'P', 'DET', 'N', 'PRP', 'V', 'PRON', 'PRON', 'P', 'DET', 'N', 'REM', 'NEG', 'PRON', 'P', 'DET', 'N', 'CONJ', 'V', 'PRON', 'PRON', 'P', 'N', 'PN', 'REM', 'NEG', 'PRON', 'P', 'N', 'PN', 'CONJ', 'V', 'PRON', 'P', 'PN', 'DET', 'N', 'CIRC', 'PRON', 'V', 'PRON', 'NEG', 'V', 'P', 'N', 'SUB', 'V', 'PRON', 'PN', 'DET', 'N', 'CONJ', 'DET', 'N', 'CONJ', 'DET', 'N', 'CONJ', 'V', 'P', 'DET', 'N', 'V', 'PRON', 'N', 'P', 'PRON', 'P', 'N', 'PN', 'REM', 'AMD', 'V', 'PRON', 'N', 'P', 'SUB', 'V', 'PRON', 'V', 'PRON', 'DET', 'N', 'CONJ', 'P', 'SUB', 'V', 'PRON', 'V', 'PRON', 'CONJ', 'NEG', 'V', 'PRON', 'SUB', 'V', 'PRON', 'DET', 'N', 'CONJ', 'DET', 'N', 'N', 'INTG', 'V', 'PRON', 'P', 'DET', 'N', 'T', 'T', 'PRON', 'N', 'CONJ', 'T', 'V', 'PN', 'N', 'DET', 'N', 'EMPH', 'REL', 'V', 'PRON', 'PRON', 'P', 'N', 'CONJ', 'N', 'CONJ', 'V', 'PRON', 'N', 'ADJ', 'P', 'REL', 'LOC', 'PRON', 'EMPH', 'V', 'EMPH', 'P', 'PRON', 'CONJ', 'EMPH', 'V', 'EMPH', 'PRON', 'V', 'INTG', 'V', 'PRON', 'CONJ', 'V', 'PRON', 'P', 'DEM', 'N', 'PRON', 'V', 'PRON', 'V', 'PRON', 'V', 'REM', 'V', 'PRON', 'REM', 'PRON', 'LOC', 'PRON', 'P', 'DET', 'N', 'REM', 'COND', 'V', 'T', 'DEM', 'RSLT', 'DEM', 'PRON', 'DET', 'N', 'INTG', 'SUP', 'N', 'N', 'PN', 'V', 'PRON', 'CIRC', 'P', 'PRON', 'V', 'REL', 'P', 'DET', 'N', 'CONJ', 'DET', 'N', 'N', 'CONJ', 'N', 'CIRC', 'P', 'PRON', 'V', 'PRON', 'V', 'V', 'PRON', 'P', 'PN', 'CONJ', 'REL', 'V', 'P', 'PRON', 'CONJ', 'REL', 'V', 'P', 'PN', 'CONJ', 'PN', 'CONJ', 'PN', 'CONJ', 'PN', 'CONJ', 'DET', 'N', 'CONJ', 'REL', 'V', 'PN', 'CONJ', 'PN', 'CONJ', 'DET', 'N', 'P', 'N', 'PRON', 'NEG', 'V', 'LOC', 'N', 'P', 'PRON', 'REM', 'PRON', 'P', 'PRON', 'N', 'REM', 'COND', 'V', 'N', 'DET', 'PN', 'N', 'RSLT', 'NEG', 'V', 'P', 'PRON', 'REM', 'PRON', 'P', 'DET', 'N', 'P', 'DET', 'N', 'INTG', 'V', 'PN', 'N', 'V', 'PRON', 'T', 'N', 'PRON', 'CONJ', 'V', 'PRON', 'ACC', 'DET', 'N', 'N', 'CONJ', 'V', 'PRON', 'DET', 'N', 'REM', 'PN', 'NEG', 'V', 'DET', 'N', 'DET', 'ADJ', 'DEM', 'N', 'PRON', 'ACC', 'P', 'PRON', 'N', 'PN', 'CONJ', 'DET', 'N', 'CONJ', 'DET', 'N', 'N', 'N', 'P', 'PRON', 'NEG', 'V', 'P', 'PRON', 'DET', 'N', 'CONJ', 'NEG', 'PRON', 'V', 'PRON', 'EXP', 'REL', 'V', 'PRON', 'P', 'N', 'DEM', 'CONJ', 'V', 'PRON', 'REM', 'ACC', 'PN', 'N', 'ADJ', 'ACC', 'REL', 'V', 'PRON', 'T', 'N', 'PRON', 'CONJ', 'V', 'PRON', 'N', 'NEG', 'V', 'N', 'PRON', 'REM', 'DEM', 'PRON', 'DET', 'N', 'ACC', 'REL', 'V', 'PRON', 'CONJ', 'V', 'PRON', 'CIRC', 'PRON', 'N', 'REM', 'NEG', 'V', 'P', 'N', 'PRON', 'N', 'DET', 'N', 'N', 'CIRC', 'COND', 'V', 'P', 'PRON', 'DEM', 'P', 'PRON', 'N', 'ADJ', 'CONJ', 'NEG', 'P', 'PRON', 'P', 'N']]"
   ]
  },
  {
   "cell_type": "code",
   "execution_count": 80,
   "metadata": {},
   "outputs": [
    {
     "data": {
      "text/plain": [
       "[{'pattern': 'REL, V'},\n",
       " {'pattern': 'PN, N, PN'},\n",
       " {'pattern': 'REL, P, N, PRON'},\n",
       " {'pattern': 'REL, V, PRON'},\n",
       " {'pattern': 'N, PRON'},\n",
       " {'pattern': 'N'},\n",
       " {'pattern': 'COND, V, P, DET, N, CONJ, V, P, PN'},\n",
       " {'pattern': 'REL, V, PN'},\n",
       " {'pattern': 'PN'},\n",
       " {'pattern': 'N, DET, ADJ'},\n",
       " {'pattern': 'REL, V, P, N'},\n",
       " {'pattern': 'REL, V, PRON, N, PRON, P, N, PN'},\n",
       " {'pattern': 'REL, V, N, PRON'},\n",
       " {'pattern': 'ADJ'},\n",
       " {'pattern': 'REL, V, PRON, N, PRON, N, N, PN'},\n",
       " {'pattern': 'COND, V, DET, N'},\n",
       " {'pattern': 'N, DET, N'},\n",
       " {'pattern': 'DET, N'},\n",
       " {'pattern': 'REL, V, PRON, P, N, PN'},\n",
       " {'pattern': 'REL, V, PRON, N, PRON, P, DET, N, CONJ, DET, N'},\n",
       " {'pattern': 'REL, V, PRON, DET, N'},\n",
       " {'pattern': 'COND, V, PRON'},\n",
       " {'pattern': 'COND, V'},\n",
       " {'pattern': 'N, DET, N, PRON'},\n",
       " {'pattern': 'REL, V, PRON, CONJ, V, PRON, DET, N, CONJ, V, PRON, DET, N, CONJ, V, PRON, DET, N'},\n",
       " {'pattern': 'REL, P, PRON, DET, N'},\n",
       " {'pattern': 'COND, P, N, PRON, N'},\n",
       " {'pattern': 'N, PN'},\n",
       " {'pattern': 'N, CONJ, DET, N'},\n",
       " {'pattern': 'REL, V, PRON, N, PRON, ACC, PRON, V, PRON, REM, V, P, PRON, N, PRON, CONJ, V, PRON, N, DET, N, DET, N, CONJ, DET, N, CONJ, DET, N, CONJ, DET, N, CONJ, DET, N, P, DET, N, V, PN, ACC, PRON, NEG, N, EXP, PRON, CONJ, DET, N, CONJ, N, DET, N, N, P, DET, N, NEG, N, EXP, PRON, DET, N, DET, ADJ, ACC, DET, N, LOC, PN, DET, PN, REM, NEG, V, REL, V, PRON, DET, N, RES, P, N, REL, V, PRON, DET, N, N, LOC, PRON, REM, COND, V, P, N, PN, RSLT, ACC, PN, N, DET, N, REM, COND, V, PRON, PRON, RSLT, V, V, PRON, N, PRON, P, PN, CONJ, REL, V, PRON, CONJ, V, P, REL, V, PRON, DET, N, CONJ, DET, N, INTG, V, PRON, REM, COND, V, PRON, RSLT, CERT, V, PRON, CONJ, COND, V, PRON, RSLT, ACC, PREV, P, PRON, DET, N, REM, PN, N, P, DET, N, ACC, REL, V, PRON, P, N, PN, CONJ, V, PRON, DET, N, P, N, N, CONJ, V, PRON, REL, V, PRON, P, DET, N, P, DET, N, REM, V, PRON, P, N, ADJ, DEM, REL, V, N, PRON, P, DET, N, CONJ, DET, N, REM, NEG, P, PRON, P, N, INTG, NEG, V, P, REL, V, PRON, N, P, DET, N, V, PRON, P, N, PN, PRP, V, LOC, PRON, CONJ, V, N, P, PRON, CIRC, PRON, N, DEM, P, ACC, PRON, V, PRON, NEG, V, PRON, DET, N, RES, T, ADJ, REM, V, PRON, P, N, PRON, REL, V, PRON, V, PRON, REM, INTG, T, V, PRON, PRON, P, N, NEG, N, P, PRON, CONJ, V, N, N, REL, V, CIRC, PRON, NEG, V, PRON, V, PN, VOC, N, DET, N, V, DET, N, REL, V, CONJ, V, DET, N, P, REL, V, CONJ, V, REL, V, CONJ, V, REL, V, P, N, PRON, DET, N, ACC, PRON, P, N, N, N, V, DET, N, P, DET, N, CONJ, V, DET, N, P, DET, N, CONJ, V, DET, N, P, DET, N, CONJ, V, DET, N, P, DET, N, CONJ, V, REL, V, P, N, N, PRO, V, DET, N, DET, N, N, P, N, DET, N, REM, COND, V, DEM, RSLT, V, P, PN, P, N, RES, SUB, V, PRON, P, PRON, N, REM, V, PRON, PN, N, PRON, REM, P, PN, DET, N, V, COND, V, PRON, REL, P, N, PRON, CONJ, V, PRON, PRON, V, PRON, PN, REM, V, REL, P, DET, N, CONJ, REL, P, DET, N, REM, PN, P, N, N, N, T, V, N, N, REL, V, P, N, N, CONJ, REL, V, P, N, V, SUB, ACC, LOC, PRON, CONJ, LOC, PRON, N, ADJ, REM, V, PRON, PN, N, PRON, REM, PN, N, P, DET, N, V, COND, V, PRON, V, PRON, PN, RSLT, V, PRON, PRON, V, PRON, PN, CONJ, V, P, PRON, N, PRON, REM, PN, N, ADJ, V, V, PRON, PN, CONJ, DET, N, REM, COND, V, PRON, RSLT, ACC, PN, NEG, V, DET, N, ACC, PN, V, PN, CONJ, PN, CONJ, N, PN, CONJ, N, PN, P, DET, N, N, N, PRON, P, N, REM, PN, N, ADJ, T, V, N, PN, N, PRON, ACC, PRON, V, PRON, P, PRON, REL, P, N, PRON, N, REM, V, P, PRON, ACC, PRON, PRON, DET, N, DET, ADJ, REM, T, V, PRON, V, N, PRON, ACC, PRON, V, PRON, PRON, N, REM, PN, N, P, REL, V, REM, V, DET, N, P, DET, N, CONJ, ACC, PRON, V, PRON, PRON, PN, CONJ, ACC, PRON, V, PRON, P, PRON, CONJ, N, PRON, P, DET, PN, DET, ADJ, REM, V, PRON, N, PRON, P, N, ADJ, CONJ, V, PRON, N, ADJ, CONJ, V, PRON, PN, T, V, P, PRON, PN, DET, N, V, LOC, PRON, N, V, VOC, PN, INTG, P, PRON, DEM, V, PRON, P, N, PN, ACC, PN, V, REL, V, P, N, N, T, V, PN, N, PRON, V, N, PRON, V, P, PRON, P, N, PRON, N, ADJ, ACC, PRON, N, DET, N, REM, V, PRON, DET, N, CIRC, PRON, N, V, P, DET, N, ACC, PN, V, PRON, P, PN, N, P, N, P, PN, CONJ, N, CONJ, N, CONJ, N, P, DET, N, V, N, PRON, INTG, V, P, PRON, N, CIRC, CERT, V, PRON, DET, N, CONJ, N, PRON, N, V, P, DEM, PN, V, REL, V, V, N, PRON, V, P, PRON, N, V, N, PRON, SUB, NEG, V, DET, N, T, N, EXP, N, CONJ, V, N, PRON, ADJ, CONJ, V, P, DET, N, CONJ, DET, N, CONJ, T, V, DET, N, VOC, PN, ACC, PN, V, PRON, CONJ, V, PRON, CONJ, V, PRON, P, N, DET, N, VOC, PN, V, PRON, P, N, PRON, CONJ, V, PRON, CONJ, V, PRON, LOC, DET, N, DEM, P, N, DET, N, V, PRON, P, PRON, REM, NEG, V, PRON, LOC, PRON, T, V, PRON, N, PRON, INTG, PRON, V, PN, CONJ, NEG, V, PRON, LOC, PRON, T, V, PRON, T, V, DET, N, VOC, PN, ACC, PN, V, PRON, P, N, P, PRON, N, PRON, DET, PN, PN, N, PN, N, P, DET, N, CONJ, DET, N, CONJ, P, DET, N, CONJ, V, DET, N, P, DET, N, CONJ, N, CONJ, P, DET, N, V, N, PRON, INTG, V, P, PRON, N, CIRC, NEG, V, PRON, N, V, P, DEM, PN, V, REL, V, T, V, N, RSLT, ACC, PREV, V, P, PRON, V, CONJ, V, REM, V, PRON, DET, N, CONJ, DET, N, CONJ, DET, PN, CONJ, DET, PN, CONJ, N, P, N, PN, ACC, PRON, CERT, V, PRON, PRON, P, N, P, N, PRON, ACC, PRON, V, P, PRON, P, DET, N, P, N, DET, N, CONJ, V, P, PRON, CONJ, V, N, P, N, PN, CONJ, V, DET, N, CONJ, DET, N, CONJ, V, DET, N, P, N, PN, CONJ, V, PRON, P, REL, V, PRON, CONJ, REL, V, PRON, P, N, PRON, ACC, P, DEM, EMPH, N, P, PRON, COND, V, PRON, N, CONJ, N, P, REL, LOC, N, PRON, P, DET, PN, CONJ, PRP, V, P, PRON, N, REL, V, P, PRON, REM, V, PRON, PRON, P, N, P, N, PRON, REM, V, PRON, PN, CONJ, V, PRON, PRON, ACC, PN, N, PRON, CONJ, N, PRON, REM, V, PRON, PRON, DEM, N, ADJ, REM, T, V, PN, P, PRON, DET, N, V, INTG, N, PRON, P, PN, V, DET, N, PRON, N, PN, V, PRON, P, PN, REM, V, P, ACC, PRON, N, N, PRON, V, PRON, P, REL, V, PRON, CONJ, V, PRON, DET, N, REM, V, PRON, LOC, DET, N, REM, V, PRON, CONJ, V, PN, REM, PN, N, DET, N, T, V, PN, VOC, PN, ACC, PRON, N, PRON, CONJ, N, PRON, P, PRON, CONJ, N, PRON, P, REL, V, PRON, CONJ, N, REL, V, PRON, PRON, LOC, REL, V, PRON, P, N, DET, N, CONJ, P, PRON, N, PRON, CONJ, V, LOC, PRON, P, REL, V, PRON, P, PRON, V, PRON, REM, EXL, COND, V, PRON, RSLT, V, PRON, N, ADJ, P, DET, N, CONJ, DET, N, REM, NEG, P, PRON, P, N, CONJ, EXL, COND, V, PRON, CONJ, V, PRON, DET, N, RSLT, V, PRON, N, PRON, REM, PN, NEG, V, DET, N, DEM, V, PRON, P, PRON, P, DET, N, CONJ, DET, N, DET, ADJ, ACC, N, PN, LOC, PN, P, N, PN, V, PRON, P, N, CONJ, V, P, PRON, V, REM, V, DET, N, P, N, PRON, REM, PRO, V, P, DET, N, REM, COND, V, PRON, P, PRON, P, N, REL, V, PRON, P, DET, N, RSLT, V, V, PRON, V, N, PRON, CONJ, N, PRON, CONJ, N, PRON, CONJ, N, PRON, CONJ, N, PRON, CONJ, N, PRON, CONJ, V, CONJ, V, N, PN, P, DET, N, ACC, DEM, EMPH, PRON, DET, N, DET, ADJ, REM, NEG, P, N, RES, PN, REM, ACC, PN, EMPH, PRON, DET, N, DET, ADJ, REM, COND, V, PRON, RSLT, ACC, PN, N, P, DET, N, V, VOC, N, DET, N, V, PRON, P, N, ADJ, LOC, PRON, CONJ, LOC, PRON, SUB, NEG, V, RES, PN, CONJ, NEG, V, P, PRON, N, CONJ, NEG, V, N, PRON, N, N, P, N, PN, REM, COND, V, PRON, RSLT, V, PRON, V, PRON, P, ACC, PRON, N, VOC, N, DET, N, P, INTG, V, PRON, P, PN, CIRC, NEG, V, DET, PN, CONJ, DET, PN, RES, P, N, PRON, INTG, SUP, NEG, V, PRON, VOC, PRON, DEM, V, PRON, P, REL, P, PRON, P, PRON, N, REM, P, INTG, V, PRON, P, REL, V, P, PRON, P, PRON, N, REM, PN, V, CONJ, PRON, NEG, V, PRON, NEG, V, PN, PN, CONJ, NEG, PN, SUP, AMD, V, N, ADJ, CONJ, NEG, V, P, DET, N, ACC, N, DET, N, P, PN, EMPH, REL, V, PRON, PRON, CONJ, DEM, DET, N, CONJ, REL, V, PRON, REM, PN, N, DET, N, V, N, P, N, DET, N, SUB, V, PRON, PRON, REM, NEG, V, PRON, RES, N, PRON, CIRC, NEG, V, PRON, VOC, N, DET, N, P, INTG, V, PRON, P, N, PN, CIRC, PRON, V, PRON, VOC, N, DET, N, P, INTG, V, PRON, DET, N, P, DET, N, CONJ, V, PRON, DET, N, CIRC, PRON, V, PRON, REM, V, N, P, N, DET, N, V, PRON, P, REL, V, P, REL, V, PRON, T, DET, N, CONJ, V, PRON, T, PRON, ACC, PRON, V, PRON, CONJ, PRO, V, PRON, EXP, P, REL, V, N, PRON, V, ACC, DET, N, N, PN, SUB, V, N, N, REL, V, PRON, CONJ, V, PRON, PRON, LOC, N, PRON, V, ACC, DET, N, P, N, PN, V, PRON, REL, V, REM, PN, N, ADJ, V, P, N, PRON, REL, V, REM, PN, N, DET, N, DET, ADJ, REM, P, N, DET, N, REL, COND, V, PRON, P, N, V, PRON, P, PRON, CONJ, P, PRON, REL, COND, V, PRON, P, N, NEG, V, PRON, P, PRON, RES, SUB, V, PRON, P, PRON, N, DEM, P, ACC, PRON, V, PRON, V, P, PRON, P, DET, N, N, REM, V, PRON, P, PN, DET, N, CIRC, PRON, V, PRON, ANS, COND, V, P, N, PRON, CONJ, V, RSLT, ACC, PN, V, DET, N, ACC, REL, V, PRON, P, N, PN, CONJ, N, PRON, N, ADJ, DEM, NEG, N, P, PRON, P, DET, N, CONJ, NEG, V, PRON, PN, CONJ, NEG, V, P, PRON, T, DET, N, CONJ, NEG, V, PRON, CONJ, P, PRON, N, ADJ, REM, ACC, P, PRON, EMPH, N, V, PRON, N, PRON, P, DET, N, PRP, V, PRON, PRON, P, DET, N, REM, NEG, PRON, P, DET, N, CONJ, V, PRON, PRON, P, N, PN, REM, NEG, PRON, P, N, PN, CONJ, V, PRON, P, PN, DET, N, CIRC, PRON, V, PRON, NEG, V, P, N, SUB, V, PRON, PN, DET, N, CONJ, DET, N, CONJ, DET, N, CONJ, V, P, DET, N, V, PRON, N, P, PRON, P, N, PN, REM, AMD, V, PRON, N, P, SUB, V, PRON, V, PRON, DET, N, CONJ, P, SUB, V, PRON, V, PRON, CONJ, NEG, V, PRON, SUB, V, PRON, DET, N, CONJ, DET, N, N, INTG, V, PRON, P, DET, N, T, T, PRON, N, CONJ, T, V, PN, N, DET, N, EMPH, REL, V, PRON, PRON, P, N, CONJ, N, CONJ, V, PRON, N, ADJ, P, REL, LOC, PRON, EMPH, V, EMPH, P, PRON, CONJ, EMPH, V, EMPH, PRON, V, INTG, V, PRON, CONJ, V, PRON, P, DEM, N, PRON, V, PRON, V, PRON, V, REM, V, PRON, REM, PRON, LOC, PRON, P, DET, N, REM, COND, V, T, DEM, RSLT, DEM, PRON, DET, N, INTG, SUP, N, N, PN, V, PRON, CIRC, P, PRON, V, REL, P, DET, N, CONJ, DET, N, N, CONJ, N, CIRC, P, PRON, V, PRON, V, V, PRON, P, PN, CONJ, REL, V, P, PRON, CONJ, REL, V, P, PN, CONJ, PN, CONJ, PN, CONJ, PN, CONJ, DET, N, CONJ, REL, V, PN, CONJ, PN, CONJ, DET, N, P, N, PRON, NEG, V, LOC, N, P, PRON, REM, PRON, P, PRON, N, REM, COND, V, N, DET, PN, N, RSLT, NEG, V, P, PRON, REM, PRON, P, DET, N, P, DET, N, INTG, V, PN, N, V, PRON, T, N, PRON, CONJ, V, PRON, ACC, DET, N, N, CONJ, V, PRON, DET, N, REM, PN, NEG, V, DET, N, DET, ADJ, DEM, N, PRON, ACC, P, PRON, N, PN, CONJ, DET, N, CONJ, DET, N, N, N, P, PRON, NEG, V, P, PRON, DET, N, CONJ, NEG, PRON, V, PRON, EXP, REL, V, PRON, P, N, DEM, CONJ, V, PRON, REM, ACC, PN, N, ADJ, ACC, REL, V, PRON, T, N, PRON, CONJ, V, PRON, N, NEG, V, N, PRON, REM, DEM, PRON, DET, N, ACC, REL, V, PRON, CONJ, V, PRON, CIRC, PRON, N, REM, NEG, V, P, N, PRON, N, DET, N, N, CIRC, COND, V, P, PRON, DEM, P, PRON, N, ADJ, CONJ, NEG, P, PRON, P, N'}]"
      ]
     },
     "execution_count": 80,
     "metadata": {},
     "output_type": "execute_result"
    }
   ],
   "source": [
    "for i in range(len(patterns)):\n",
    "    patterns[i] = {\"pattern\": patterns[i]}\n",
    "                                      \n",
    "patterns"
   ]
  },
  {
   "cell_type": "code",
   "execution_count": 81,
   "metadata": {},
   "outputs": [
    {
     "data": {
      "text/plain": [
       "<pymongo.results.InsertManyResult at 0x128a2daf0>"
      ]
     },
     "execution_count": 81,
     "metadata": {},
     "output_type": "execute_result"
    }
   ],
   "source": [
    "mydb[\"patterns\"].insert_many(patterns)"
   ]
  },
  {
   "cell_type": "code",
   "execution_count": 84,
   "metadata": {},
   "outputs": [],
   "source": [
    "x = quran.find({\"SURAH_NUMBER\": \"67\"})"
   ]
  },
  {
   "cell_type": "code",
   "execution_count": 101,
   "metadata": {},
   "outputs": [],
   "source": [
    "patterns = list(mydb[\"patterns\"].find())\n",
    "\n",
    "for pattern in patterns:\n",
    "    stripped_spaces = pattern[\"pattern\"].replace(\" \", \"\")\n",
    "    mydb[\"patterns\"].update_one({\"pattern\": pattern[\"pattern\"]}, {\"$set\" : {\"pattern\": stripped_spaces}})"
   ]
  },
  {
   "cell_type": "code",
   "execution_count": null,
   "metadata": {},
   "outputs": [],
   "source": []
  }
 ],
 "metadata": {
  "kernelspec": {
   "display_name": "Python 3",
   "language": "python",
   "name": "python3"
  },
  "language_info": {
   "codemirror_mode": {
    "name": "ipython",
    "version": 3
   },
   "file_extension": ".py",
   "mimetype": "text/x-python",
   "name": "python",
   "nbconvert_exporter": "python",
   "pygments_lexer": "ipython3",
   "version": "3.7.4"
  }
 },
 "nbformat": 4,
 "nbformat_minor": 2
}
